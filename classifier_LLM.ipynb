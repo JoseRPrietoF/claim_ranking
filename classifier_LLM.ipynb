{
 "cells": [
  {
   "cell_type": "markdown",
   "id": "9d5f321f",
   "metadata": {},
   "source": [
    "# System Overview\n",
    "\n",
    "This notebook outlines a two-step approach:\n",
    "\n",
    "1. **Ranking System with Embeddings**  \n",
    "   Initially, we employ a ranking system based on embeddings. This involves generating vector representations of text data using pre-trained models or custom embeddings. These embeddings allow us to compute similarity scores, enabling the ranking of documents, sentences, or queries based on their relevance to a given input.\n",
    "\n",
    "2. **Binary Classification with Transformers (BERT-like)**  \n",
    "   Once the ranking system has narrowed down the candidates, a binary classification model based on a transformer architecture (e.g., BERT) is applied. This classifier further refines the results by determining whether each candidate is relevant (`1`) or not (`0`). The use of transformers ensures high accuracy and robustness in this final decision-making step.\n"
   ]
  },
  {
   "cell_type": "markdown",
   "id": "bc93df4d",
   "metadata": {},
   "source": [
    "## Imports"
   ]
  },
  {
   "cell_type": "code",
   "execution_count": 1,
   "id": "import-libraries",
   "metadata": {},
   "outputs": [],
   "source": [
    "import pandas as pd\n",
    "import numpy as np\n",
    "import random\n",
    "from sentence_transformers import SentenceTransformer, util\n",
    "from sklearn.metrics import classification_report\n",
    "import heapq\n",
    "from transformers import XLMRobertaTokenizer, Trainer, TrainingArguments, BertForSequenceClassification\n",
    "from transformers import AutoTokenizer, AutoModelForSequenceClassification\n",
    "import torch\n",
    "from torch.utils.data import Dataset\n",
    "from sklearn.model_selection import train_test_split\n",
    "from torch.utils.data import DataLoader\n",
    "from sklearn.utils.class_weight import compute_class_weight\n",
    "from torch.nn import CrossEntropyLoss\n",
    "import os\n",
    "from sklearn.metrics import accuracy_score, precision_recall_fscore_support\n",
    "from peft import LoraConfig, TaskType, get_peft_model\n",
    "import tqdm\n",
    "import pickle as pkl\n",
    "import gc\n",
    "import ipywidgets as widgets\n",
    "from IPython.display import display, HTML, clear_output\n",
    "import matplotlib.pyplot as plt\n"
   ]
  },
  {
   "cell_type": "code",
   "execution_count": null,
   "id": "5c92dc3f",
   "metadata": {},
   "outputs": [],
   "source": [
    "EMBEDDING_MODEL = \"sentence-transformers/paraphrase-multilingual-MiniLM-L12-v2\"\n",
    "DATA_PICKLE_TR = \"data/claims_tr.pkl\"\n",
    "DATA_PICKLE_TE = \"data/claims_te.pkl\"\n",
    "CSV_PATH = \"data/claim_matching_dataset.csv\"\n",
    "BATCH_SIZE = 24\n",
    "EPOCHS = 15\n",
    "TH = 0.5\n",
    "topK = 15\n",
    "TRAIN = False\n",
    "gradient_checkpointing = False\n",
    "MAX_TOKENS = 512\n",
    "# Configuración del modelo y tokenizer\n",
    "# MODEL_NAME = \"microsoft/Multilingual-MiniLM-L12-H384\"\n",
    "# name = \"ML_MiniLM\"\n",
    "MODEL_NAME = \"Qwen/Qwen2.5-3B-Instruct-GPTQ-Int4\"\n",
    "name=\"Qwen2.5-3B-Instruct\"\n",
    "use_peft = \"qwen\" in MODEL_NAME.lower()\n",
    "if \"qwen\" in MODEL_NAME.lower():\n",
    "    BATCH_SIZE = 2\n",
    "    EPOCHS = 4\n",
    "    gradient_checkpointing = True\n",
    "    MAX_TOKENS = 3000\n"
   ]
  },
  {
   "cell_type": "markdown",
   "id": "a807d70c",
   "metadata": {},
   "source": [
    "# Data and embedding preparations"
   ]
  },
  {
   "cell_type": "markdown",
   "id": "137b4266",
   "metadata": {},
   "source": [
    "## Device and Embedding Model Initialization\n",
    "\n",
    "- The `device` is set to `\"cuda\"`, indicating that computations will run on a GPU if available, which significantly speeds up the embedding process.\n",
    "- A pre-trained model, `paraphrase-multilingual-MiniLM-L12-v2`, from the `SentenceTransformer` library is loaded. This model generates embeddings for text and supports multiple languages, making it suitable for multilingual tasks.\n",
    "- The model is initialized on the specified device for efficient processing.\n"
   ]
  },
  {
   "cell_type": "code",
   "execution_count": 3,
   "id": "load-model",
   "metadata": {},
   "outputs": [],
   "source": [
    "device = \"cuda\"\n",
    "embedding_model = SentenceTransformer(EMBEDDING_MODEL, device=device)"
   ]
  },
  {
   "cell_type": "markdown",
   "id": "da4cfa8e",
   "metadata": {},
   "source": [
    "## Selected Columns for the Ranking System\n",
    "\n",
    "- **query_col**: Represents the unverified claim.\n",
    "- **archive**: Refers to the reviewed claim."
   ]
  },
  {
   "cell_type": "code",
   "execution_count": 4,
   "id": "df478e28",
   "metadata": {},
   "outputs": [],
   "source": [
    "query_col = \"unverified claim\"\n",
    "archive = \"reviewed claim\""
   ]
  },
  {
   "cell_type": "markdown",
   "id": "34a51747",
   "metadata": {},
   "source": [
    "## Loading and Preparing the Dataset\n",
    "\n",
    "The dataset is loaded from a CSV file located at `data/claim_matching_dataset.csv`. The file should have two key columns:\n",
    "- **`unverified claim`**: Contains new, unverified claims that need to be matched.\n",
    "- **`reviewed claim`**: Contains previously reviewed and verified claims.\n",
    "\n",
    "The column names are defined as `\"unverified claim\"` and `\"reviewed claim\"`. Missing values in these columns are replaced with empty strings (`''`) to ensure data consistency, and all entries are converted to strings for text processing.\n"
   ]
  },
  {
   "cell_type": "code",
   "execution_count": 5,
   "id": "load-data",
   "metadata": {},
   "outputs": [],
   "source": [
    "def preprocess_data(data_path):\n",
    "    \n",
    "    data = pd.read_csv(data_path, delimiter=\",\", quotechar='\"', encoding='utf-8')\n",
    "\n",
    "    # Reemplazar valores nuls con cadenas vacías\n",
    "    data[query_col] = data[query_col].fillna('').astype(str)\n",
    "    data[archive] = data[archive].fillna('').astype(str)\n",
    "\n",
    "    uniq_queries = data[query_col].unique()\n",
    "    ntest = 0.2\n",
    "    total_test = int(len(uniq_queries) * ntest)\n",
    "    random.shuffle(uniq_queries)\n",
    "    test = uniq_queries[:total_test]\n",
    "    train = uniq_queries[total_test:]\n",
    "    print(f\"A total of {len(train)} number of unique exampels for train and {len(test)} for test\")\n",
    "\n",
    "    filtered_train = data[data[query_col].isin(train)]\n",
    "    filtered_test = data[data[query_col].isin(test)]\n",
    "    print(len(filtered_train))\n",
    "    print(len(filtered_test))\n",
    "    print(len(data))\n",
    "\n",
    "    return filtered_train, filtered_test"
   ]
  },
  {
   "cell_type": "code",
   "execution_count": 6,
   "id": "8d964b82",
   "metadata": {},
   "outputs": [],
   "source": [
    "\n",
    "# Function: Load and Process Data\n",
    "def load_and_process_data():\n",
    "    if os.path.exists(DATA_PICKLE_TR):\n",
    "        print(\"Loading processed data from pickle...\")\n",
    "        tr, te = pd.read_pickle(DATA_PICKLE_TR), pd.read_pickle(DATA_PICKLE_TE)\n",
    "        return tr, te\n",
    "\n",
    "    print(\"Processing raw data from CSV...\")\n",
    "    filtered_train, filtered_test = preprocess_data(CSV_PATH)\n",
    "\n",
    "    # Generate embeddings\n",
    "\n",
    "    filtered_test.loc[:, 'query_embedding'] = filtered_test[query_col].apply(lambda x: embedding_model.encode(x, convert_to_tensor=True))\n",
    "    filtered_test.loc[:, 'archive_embedding'] = filtered_test[archive].apply(lambda x: embedding_model.encode(x, convert_to_tensor=True))\n",
    "    filtered_train.loc[:, 'query_embedding'] = filtered_train[query_col].apply(lambda x: embedding_model.encode(x, convert_to_tensor=True))\n",
    "    filtered_train.loc[:, 'archive_embedding'] = filtered_train[archive].apply(lambda x: embedding_model.encode(x, convert_to_tensor=True))\n",
    "    filtered_test[\"metadata_combined\"] = filtered_test.apply(\n",
    "    lambda row: (\n",
    "        f\"Título: {row['title']}\\n\"\n",
    "        f\"Texto: {row['text']}\\n\"\n",
    "        f\"Meta Descripción: {row['meta_description']}\\n\"\n",
    "        f\"Resumen: {row['summary']}\\n\"\n",
    "        f\"KB Keywords: {row['kb_keywords']}\\n\"\n",
    "        f\"Meta Keywords: {row['meta_keywords']}\\n\"\n",
    "        f\"URL: {row['url']}\\n\"\n",
    "        f\"Dominio: {row['domain']}\\n\"\n",
    "        f\"País CR: {row['cr_country']}\\n\"\n",
    "        f\"Meta Lenguaje: {row['meta_lang']}\"\n",
    "    ),\n",
    "    axis=1\n",
    "    )\n",
    "    filtered_train[\"metadata_combined\"] = filtered_test.apply(\n",
    "    lambda row: (\n",
    "        f\"Título: {row['title']}\\n\"\n",
    "        f\"Texto: {row['text']}\\n\"\n",
    "        f\"Meta Descripción: {row['meta_description']}\\n\"\n",
    "        f\"Resumen: {row['summary']}\\n\"\n",
    "        f\"KB Keywords: {row['kb_keywords']}\\n\"\n",
    "        f\"Meta Keywords: {row['meta_keywords']}\\n\"\n",
    "        f\"URL: {row['url']}\\n\"\n",
    "        f\"Dominio: {row['domain']}\\n\"\n",
    "        f\"País CR: {row['cr_country']}\\n\"\n",
    "        f\"Meta Lenguaje: {row['meta_lang']}\"\n",
    "    ),\n",
    "    axis=1\n",
    "    )\n",
    "\n",
    "    # Save processed data\n",
    "    filtered_train.to_pickle(DATA_PICKLE_TR)\n",
    "    filtered_test.to_pickle(DATA_PICKLE_TE)\n",
    "\n",
    "    print(\"Data processing complete. Pickle saved.\")\n",
    "    return filtered_train, filtered_test"
   ]
  },
  {
   "cell_type": "markdown",
   "id": "3d3e9ed5",
   "metadata": {},
   "source": [
    "## Generating Embeddings for the Test Set\n",
    "\n",
    "Embeddings are generated for the test set using the pre-trained `embedding_model`:\n",
    "- For each `query` in the test set, embeddings are computed and stored in the `query_embedding` column. The `embedding_model.encode` method converts the text into a tensor representation.\n",
    "- Similarly, embeddings are computed for each `archive` entry in the test set and stored in the `archive_embedding` column.\n",
    "- This process transforms the textual data into dense vector representations, which can be used for similarity computations.\n"
   ]
  },
  {
   "cell_type": "code",
   "execution_count": 7,
   "id": "8e2ec685",
   "metadata": {},
   "outputs": [
    {
     "name": "stdout",
     "output_type": "stream",
     "text": [
      "Loading processed data from pickle...\n"
     ]
    }
   ],
   "source": [
    "filtered_train, filtered_test = load_and_process_data()"
   ]
  },
  {
   "cell_type": "markdown",
   "id": "089f2e96",
   "metadata": {},
   "source": [
    "## Creating a Dictionary for Query-to-Answers Mapping\n",
    "\n",
    "Constructs a dictionary that maps each unverified claim (`query`) to all verified claims (`archive`) associated with it in the test set:\n",
    "\n",
    "- Filters the rows in `filtered_test` where the `similarity` column equals `1` (indicating a match).\n",
    "- Groups the filtered rows by the `query` column, selecting the corresponding values from the `archive` column.\n",
    "- Converts the grouped values of `archive` into sets to ensure each query has a unique list of verified claims.\n",
    "- Converts the resulting mapping into a dictionary (`query_answer_dict`) where keys are queries and values are sets of verified claims.\n",
    "\n",
    "Additionally:\n",
    "- `uniq_queries_test` holds the set of unique queries in the test set.\n",
    "- `uniq_verified_test` holds the set of unique verified claims in the test set.\n",
    "\n",
    "The sizes of the resulting dictionary, unique queries, and unique verified claims are printed for verification.\n"
   ]
  },
  {
   "cell_type": "code",
   "execution_count": 8,
   "id": "f5021398",
   "metadata": {},
   "outputs": [
    {
     "name": "stdout",
     "output_type": "stream",
     "text": [
      "44\n",
      "47\n",
      "680\n"
     ]
    }
   ],
   "source": [
    "query_answer_dict = (\n",
    "    filtered_test[filtered_test[\"similarity\"] == 1]  # Filter rows where similarity is 1 or True\n",
    "    .groupby(query_col)[archive]                    # Group by the \"query\" column and select \"archive\"\n",
    "    .apply(set)                                     # Convert the values of \"archive\" to a set\n",
    "    .to_dict()                                      # Convert the result to a dictionary\n",
    ")\n",
    "uniq_queries_test = set(filtered_test[query_col].unique())\n",
    "uniq_verified_test = set(filtered_test[archive].unique())\n",
    "# Print the resulting dictionary\n",
    "print(len(query_answer_dict))\n",
    "print(len(uniq_queries_test))\n",
    "print(len(uniq_verified_test))"
   ]
  },
  {
   "cell_type": "markdown",
   "id": "c4d27004",
   "metadata": {},
   "source": [
    "## Handling Queries Without Similarity Matches\n",
    "\n",
    "Identifies queries in the test set that have no matching verified claims and ensures they are included in the `query_answer_dict`:\n",
    "\n",
    "- Iterates through all unique queries in the test set (`uniq_queries_test`).\n",
    "- For any query not already present as a key in `query_answer_dict`, it:\n",
    "  - Prints the query to indicate it has no similarity matches.\n",
    "  - Adds the query to the dictionary with an empty set as its value, representing no associated verified claims.\n",
    "  \n",
    "Finally, the sizes of the updated dictionary, the set of unique queries, and the set of unique verified claims are printed for verification.\n"
   ]
  },
  {
   "cell_type": "code",
   "execution_count": 9,
   "id": "56fcc22f",
   "metadata": {},
   "outputs": [
    {
     "name": "stdout",
     "output_type": "stream",
     "text": [
      "Query sin answer : España ha multiplicado por cuatro su dependencia del gas ruso\n",
      "Query sin answer : pablo iglesias compra pan en un coche oficial\n",
      "Query sin answer : video de putin anunciando invasion tres dias antes de la guerra\n",
      "47\n",
      "47\n",
      "680\n"
     ]
    }
   ],
   "source": [
    "for k in uniq_queries_test:\n",
    "    if k not in query_answer_dict.keys():\n",
    "        print(f\"Query sin answer : {k}\")\n",
    "        query_answer_dict[k] = set()\n",
    "# Print the resulting dictionary\n",
    "print(len(query_answer_dict))\n",
    "print(len(uniq_queries_test))\n",
    "print(len(uniq_verified_test))"
   ]
  },
  {
   "cell_type": "markdown",
   "id": "556814f6",
   "metadata": {},
   "source": [
    "# Binary classifier\n"
   ]
  },
  {
   "cell_type": "markdown",
   "id": "edf3a366",
   "metadata": {},
   "source": [
    "## Splitting Training Data into Training and Validation Sets\n",
    "\n",
    "`filtered_train` is divided into two subsets:\n",
    "- **Training set (90%)**: Used to train the model.\n",
    "- **Validation set (10%)**: Used to evaluate the model during training and fine-tuning.\n",
    "\n",
    "The split is performed using the `train_test_split` function with the following parameters:\n",
    "- `test_size=0.1`: Allocates 10% of the data to the validation set.\n",
    "- `random_state=42`: Ensures reproducibility by fixing the random seed.\n",
    "\n",
    "The sizes of both subsets are printed to confirm the split.\n"
   ]
  },
  {
   "cell_type": "code",
   "execution_count": 10,
   "id": "3ea05e7e",
   "metadata": {},
   "outputs": [
    {
     "name": "stdout",
     "output_type": "stream",
     "text": [
      "Training size: 2790\n",
      "Validation size: 310\n"
     ]
    }
   ],
   "source": [
    "# Divide filtered_train en entrenamiento y val\n",
    "train_data, val_data = train_test_split(\n",
    "    filtered_train, test_size=0.1, random_state=42\n",
    ")\n",
    "\n",
    "# Verifica el tamaño de los conjuntos\n",
    "print(f\"Training size: {len(train_data)}\")\n",
    "print(f\"Validation size: {len(val_data)}\")"
   ]
  },
  {
   "cell_type": "markdown",
   "id": "34c92c99",
   "metadata": {},
   "source": [
    "## 1. Dataset Definition\n",
    "\n",
    "Defines a custom PyTorch `Dataset` class, `TextPairDataset`, to handle text pairs (`query`, `archive`) and their similarity labels. It tokenizes the pairs using a specified tokenizer.\n"
   ]
  },
  {
   "cell_type": "code",
   "execution_count": null,
   "id": "ceeca1f2",
   "metadata": {},
   "outputs": [],
   "source": [
    "class TextPairDataset(Dataset):\n",
    "    def __init__(self, df, tokenizer, max_length=MAX_TOKENS):\n",
    "        self.queries = df[query_col].tolist()\n",
    "        self.archives = df[archive].tolist()\n",
    "        self.metadata_combined = df[\"metadata_combined\"].tolist()\n",
    "        self.labels = df[\"similarity\"].tolist()\n",
    "        self.tokenizer = tokenizer\n",
    "        self.max_length = max_length\n",
    "\n",
    "    def __len__(self):\n",
    "        return len(self.queries)\n",
    "\n",
    "    def __getitem__(self, idx):\n",
    "        query = self.queries[idx]\n",
    "        archive = self.archives[idx]\n",
    "        \n",
    "        label = self.labels[idx]\n",
    "\n",
    "        encoding = self.tokenizer(\n",
    "            query,\n",
    "            archive,\n",
    "            max_length=self.max_length,\n",
    "            padding=\"max_length\",\n",
    "            truncation=True,\n",
    "            return_tensors=\"pt\",\n",
    "        )\n",
    "        return {\n",
    "            \"input_ids\": encoding[\"input_ids\"].squeeze(0),\n",
    "            \"attention_mask\": encoding[\"attention_mask\"].squeeze(0),\n",
    "            \"label\": torch.tensor(label, dtype=torch.long),\n",
    "        }"
   ]
  },
  {
   "cell_type": "code",
   "execution_count": 12,
   "id": "4183125b",
   "metadata": {},
   "outputs": [],
   "source": [
    "def print_number_of_trainable_model_parameters(model):  \n",
    "    trainable_model_params = 0\n",
    "    all_model_params = 0\n",
    "    for _, param in model.named_parameters():\n",
    "        all_model_params += param.numel()\n",
    "        if param.requires_grad:\n",
    "            trainable_model_params += param.numel()\n",
    "    return f\"trainable model parameters: {trainable_model_params}\\nall model parameters: {all_model_params}\\npercentage of trainable model parameters: {100 * trainable_model_params / all_model_params:.2f}%\"\n"
   ]
  },
  {
   "cell_type": "code",
   "execution_count": 13,
   "id": "26ca4ea4",
   "metadata": {},
   "outputs": [],
   "source": [
    "\n",
    "def get_latest_checkpoint(path):\n",
    "    checkpoints = [folder for folder in os.listdir(path) if folder.startswith(\"checkpoint-\") and folder.split(\"-\")[-1].isdigit()]\n",
    "    latest_checkpoint = max(checkpoints, key=lambda x: int(x.split(\"-\")[-1]), default=None)\n",
    "    return os.path.join(path, latest_checkpoint) if latest_checkpoint else None"
   ]
  },
  {
   "cell_type": "code",
   "execution_count": 14,
   "id": "b819b1b8",
   "metadata": {},
   "outputs": [],
   "source": [
    "def get_model(path, score_file_path=None):\n",
    "    if not TRAIN:\n",
    "        path = get_latest_checkpoint(path)\n",
    "        print(f\"Checkpoint path : {path}\")\n",
    "    if \"MiniLM\" in MODEL_NAME:\n",
    "        tokenizer = XLMRobertaTokenizer.from_pretrained(path, device=device)\n",
    "        model = BertForSequenceClassification.from_pretrained(path, \n",
    "                                                      num_labels=2,\n",
    "                                                      problem_type=\"single_label_classification\",\n",
    "                                                      ).to(device)\n",
    "    else:\n",
    "        tokenizer = AutoTokenizer.from_pretrained(path)\n",
    "        model = AutoModelForSequenceClassification.from_pretrained(\n",
    "            path,\n",
    "            num_labels=2,\n",
    "            device_map=device,\n",
    "        )\n",
    "        if score_file_path is not None:\n",
    "            with open(score_file_path, \"rb\") as f:\n",
    "                model.score = pkl.load(f)\n",
    "    return tokenizer, model"
   ]
  },
  {
   "cell_type": "markdown",
   "id": "d1bda60b",
   "metadata": {},
   "source": [
    "#### Auxiliary Cell: Clear GPU Memory\n",
    "\n",
    "This cell ensures that GPU memory is cleared if the notebook is re-executed on the fly:\n",
    "- Moves the model to the CPU and deletes it.\n",
    "- Deletes the tokenizer if it exists.\n",
    "- Performs garbage collection and clears the CUDA cache."
   ]
  },
  {
   "cell_type": "code",
   "execution_count": 15,
   "id": "5b7e1f66",
   "metadata": {},
   "outputs": [],
   "source": [
    "try:\n",
    "    model.to(\"cpu\")\n",
    "    del model\n",
    "except:\n",
    "    pass\n",
    "try:\n",
    "    del tokenizer\n",
    "except:\n",
    "    pass\n",
    "gc.collect()\n",
    "torch.cuda.empty_cache() "
   ]
  },
  {
   "cell_type": "code",
   "execution_count": 16,
   "id": "train-classifier",
   "metadata": {},
   "outputs": [
    {
     "name": "stdout",
     "output_type": "stream",
     "text": [
      "Checkpoint path : ./results_Qwen2.5-3B-Instruct/checkpoint-2790\n"
     ]
    },
    {
     "name": "stderr",
     "output_type": "stream",
     "text": [
      "/home/jose/anaconda3/envs/factcheck/lib/python3.11/site-packages/auto_gptq/nn_modules/triton_utils/kernels.py:410: FutureWarning: `torch.cuda.amp.custom_fwd(args...)` is deprecated. Please use `torch.amp.custom_fwd(args..., device_type='cuda')` instead.\n",
      "  @custom_fwd\n",
      "/home/jose/anaconda3/envs/factcheck/lib/python3.11/site-packages/auto_gptq/nn_modules/triton_utils/kernels.py:418: FutureWarning: `torch.cuda.amp.custom_bwd(args...)` is deprecated. Please use `torch.amp.custom_bwd(args..., device_type='cuda')` instead.\n",
      "  @custom_bwd\n",
      "/home/jose/anaconda3/envs/factcheck/lib/python3.11/site-packages/auto_gptq/nn_modules/triton_utils/kernels.py:461: FutureWarning: `torch.cuda.amp.custom_fwd(args...)` is deprecated. Please use `torch.amp.custom_fwd(args..., device_type='cuda')` instead.\n",
      "  @custom_fwd(cast_inputs=torch.float16)\n",
      "CUDA extension not installed.\n",
      "CUDA extension not installed.\n",
      "/home/jose/anaconda3/envs/factcheck/lib/python3.11/site-packages/transformers/modeling_utils.py:5055: FutureWarning: `_is_quantized_training_enabled` is going to be deprecated in transformers 4.39.0. Please use `model.hf_quantizer.is_trainable` instead\n",
      "  warnings.warn(\n",
      "`loss_type=None` was set in the config but it is unrecognised.Using the default loss: `ForCausalLMLoss`.\n",
      "Some weights of Qwen2ForSequenceClassification were not initialized from the model checkpoint at Qwen/Qwen2.5-3B-Instruct-GPTQ-Int4 and are newly initialized: ['score.weight']\n",
      "You should probably TRAIN this model on a down-stream task to be able to use it for predictions and inference.\n"
     ]
    }
   ],
   "source": [
    "output_dir = f\"./results_{name}\"\n",
    "score_file_path = os.path.join(output_dir, \"score.pkl\")\n",
    "if TRAIN:\n",
    "    tokenizer, model = get_model(MODEL_NAME)\n",
    "    if use_peft:\n",
    "        lora_target_modules = [\n",
    "                \"q_proj\",\n",
    "                \"k_proj\",\n",
    "                \"v_proj\",\n",
    "                \"o_proj\",\n",
    "                \"gate_proj\",\n",
    "                \"up_proj\",\n",
    "                \"down_proj\",\n",
    "        ]\n",
    "        lora_config = LoraConfig(\n",
    "            r=16,  # Rank\n",
    "            lora_alpha=32,\n",
    "            target_modules=lora_target_modules,\n",
    "            lora_dropout=0.05,\n",
    "            bias=\"none\",\n",
    "            # task_type=TaskType.SEQ_CLS,\n",
    "            task_type=TaskType.CAUSAL_LM, # Looks like there is some kind of error if i set SEQ_CLS\n",
    "        )\n",
    "        peft_model = get_peft_model(model, lora_config)\n",
    "        model = peft_model\n",
    "    print(print_number_of_trainable_model_parameters(model))\n",
    "    if gradient_checkpointing and TRAIN:\n",
    "        model._prepare_model_for_gradient_checkpointing\n",
    "    # model = peft_model\n",
    "    \n",
    "    training_args = TrainingArguments(\n",
    "        output_dir=output_dir,\n",
    "        evaluation_strategy=\"epoch\",\n",
    "        learning_rate=2e-5,\n",
    "        per_device_train_batch_size=BATCH_SIZE,\n",
    "        per_device_eval_batch_size=BATCH_SIZE,\n",
    "        num_train_epochs=EPOCHS,\n",
    "        weight_decay=0.01,\n",
    "        save_strategy=\"epoch\",\n",
    "        save_total_limit=1,\n",
    "        logging_dir='./logs',\n",
    "        logging_steps=50,\n",
    "        push_to_hub=False,\n",
    "        load_best_model_at_end=True,\n",
    "        bf16=True,  \n",
    "        gradient_checkpointing=gradient_checkpointing,\n",
    "        gradient_checkpointing_kwargs={\"use_reentrant\": False},\n",
    "    )\n",
    "else:\n",
    "    tokenizer, model = get_model(output_dir, score_file_path)\n",
    "train_dataset = TextPairDataset(train_data, tokenizer)\n",
    "val_dataset = TextPairDataset(val_data, tokenizer)\n",
    "model.config.pad_token_id = tokenizer.pad_token_id\n",
    "\n",
    "# Definir la función para calcular métricas\n",
    "def compute_metrics(pred):\n",
    "    labels = pred.label_ids\n",
    "    preds = pred.predictions.argmax(-1)\n",
    "    precision, recall, f1, _ = precision_recall_fscore_support(labels, preds, average='binary')\n",
    "    acc = accuracy_score(labels, preds)\n",
    "    return {\"accuracy\": acc, \"f1\": f1, \"precision\": precision, \"recall\": recall}\n"
   ]
  },
  {
   "cell_type": "markdown",
   "id": "d73d78c5",
   "metadata": {},
   "source": [
    "## 6. Train the model"
   ]
  },
  {
   "cell_type": "code",
   "execution_count": 17,
   "id": "5f07cb59",
   "metadata": {},
   "outputs": [
    {
     "data": {
      "text/plain": [
       "Qwen2ForSequenceClassification(\n",
       "  (model): Qwen2Model(\n",
       "    (embed_tokens): Embedding(151936, 2048)\n",
       "    (layers): ModuleList(\n",
       "      (0-35): 36 x Qwen2DecoderLayer(\n",
       "        (self_attn): Qwen2SdpaAttention(\n",
       "          (rotary_emb): Qwen2RotaryEmbedding()\n",
       "          (k_proj): lora.QuantLinear(\n",
       "            (base_layer): QuantLinear()\n",
       "            (lora_dropout): ModuleDict(\n",
       "              (default): Dropout(p=0.05, inplace=False)\n",
       "            )\n",
       "            (lora_A): ModuleDict(\n",
       "              (default): Linear(in_features=2048, out_features=16, bias=False)\n",
       "            )\n",
       "            (lora_B): ModuleDict(\n",
       "              (default): Linear(in_features=16, out_features=256, bias=False)\n",
       "            )\n",
       "            (lora_embedding_A): ParameterDict()\n",
       "            (lora_embedding_B): ParameterDict()\n",
       "            (lora_magnitude_vector): ModuleDict()\n",
       "            (quant_linear_module): QuantLinear()\n",
       "          )\n",
       "          (o_proj): lora.QuantLinear(\n",
       "            (base_layer): QuantLinear()\n",
       "            (lora_dropout): ModuleDict(\n",
       "              (default): Dropout(p=0.05, inplace=False)\n",
       "            )\n",
       "            (lora_A): ModuleDict(\n",
       "              (default): Linear(in_features=2048, out_features=16, bias=False)\n",
       "            )\n",
       "            (lora_B): ModuleDict(\n",
       "              (default): Linear(in_features=16, out_features=2048, bias=False)\n",
       "            )\n",
       "            (lora_embedding_A): ParameterDict()\n",
       "            (lora_embedding_B): ParameterDict()\n",
       "            (lora_magnitude_vector): ModuleDict()\n",
       "            (quant_linear_module): QuantLinear()\n",
       "          )\n",
       "          (q_proj): lora.QuantLinear(\n",
       "            (base_layer): QuantLinear()\n",
       "            (lora_dropout): ModuleDict(\n",
       "              (default): Dropout(p=0.05, inplace=False)\n",
       "            )\n",
       "            (lora_A): ModuleDict(\n",
       "              (default): Linear(in_features=2048, out_features=16, bias=False)\n",
       "            )\n",
       "            (lora_B): ModuleDict(\n",
       "              (default): Linear(in_features=16, out_features=2048, bias=False)\n",
       "            )\n",
       "            (lora_embedding_A): ParameterDict()\n",
       "            (lora_embedding_B): ParameterDict()\n",
       "            (lora_magnitude_vector): ModuleDict()\n",
       "            (quant_linear_module): QuantLinear()\n",
       "          )\n",
       "          (v_proj): lora.QuantLinear(\n",
       "            (base_layer): QuantLinear()\n",
       "            (lora_dropout): ModuleDict(\n",
       "              (default): Dropout(p=0.05, inplace=False)\n",
       "            )\n",
       "            (lora_A): ModuleDict(\n",
       "              (default): Linear(in_features=2048, out_features=16, bias=False)\n",
       "            )\n",
       "            (lora_B): ModuleDict(\n",
       "              (default): Linear(in_features=16, out_features=256, bias=False)\n",
       "            )\n",
       "            (lora_embedding_A): ParameterDict()\n",
       "            (lora_embedding_B): ParameterDict()\n",
       "            (lora_magnitude_vector): ModuleDict()\n",
       "            (quant_linear_module): QuantLinear()\n",
       "          )\n",
       "        )\n",
       "        (mlp): Qwen2MLP(\n",
       "          (act_fn): SiLU()\n",
       "          (down_proj): lora.QuantLinear(\n",
       "            (base_layer): QuantLinear()\n",
       "            (lora_dropout): ModuleDict(\n",
       "              (default): Dropout(p=0.05, inplace=False)\n",
       "            )\n",
       "            (lora_A): ModuleDict(\n",
       "              (default): Linear(in_features=11008, out_features=16, bias=False)\n",
       "            )\n",
       "            (lora_B): ModuleDict(\n",
       "              (default): Linear(in_features=16, out_features=2048, bias=False)\n",
       "            )\n",
       "            (lora_embedding_A): ParameterDict()\n",
       "            (lora_embedding_B): ParameterDict()\n",
       "            (lora_magnitude_vector): ModuleDict()\n",
       "            (quant_linear_module): QuantLinear()\n",
       "          )\n",
       "          (gate_proj): lora.QuantLinear(\n",
       "            (base_layer): QuantLinear()\n",
       "            (lora_dropout): ModuleDict(\n",
       "              (default): Dropout(p=0.05, inplace=False)\n",
       "            )\n",
       "            (lora_A): ModuleDict(\n",
       "              (default): Linear(in_features=2048, out_features=16, bias=False)\n",
       "            )\n",
       "            (lora_B): ModuleDict(\n",
       "              (default): Linear(in_features=16, out_features=11008, bias=False)\n",
       "            )\n",
       "            (lora_embedding_A): ParameterDict()\n",
       "            (lora_embedding_B): ParameterDict()\n",
       "            (lora_magnitude_vector): ModuleDict()\n",
       "            (quant_linear_module): QuantLinear()\n",
       "          )\n",
       "          (up_proj): lora.QuantLinear(\n",
       "            (base_layer): QuantLinear()\n",
       "            (lora_dropout): ModuleDict(\n",
       "              (default): Dropout(p=0.05, inplace=False)\n",
       "            )\n",
       "            (lora_A): ModuleDict(\n",
       "              (default): Linear(in_features=2048, out_features=16, bias=False)\n",
       "            )\n",
       "            (lora_B): ModuleDict(\n",
       "              (default): Linear(in_features=16, out_features=11008, bias=False)\n",
       "            )\n",
       "            (lora_embedding_A): ParameterDict()\n",
       "            (lora_embedding_B): ParameterDict()\n",
       "            (lora_magnitude_vector): ModuleDict()\n",
       "            (quant_linear_module): QuantLinear()\n",
       "          )\n",
       "        )\n",
       "        (input_layernorm): Qwen2RMSNorm((2048,), eps=1e-06)\n",
       "        (post_attention_layernorm): Qwen2RMSNorm((2048,), eps=1e-06)\n",
       "      )\n",
       "    )\n",
       "    (norm): Qwen2RMSNorm((2048,), eps=1e-06)\n",
       "    (rotary_emb): Qwen2RotaryEmbedding()\n",
       "  )\n",
       "  (score): Linear(in_features=2048, out_features=2, bias=False)\n",
       ")"
      ]
     },
     "execution_count": 17,
     "metadata": {},
     "output_type": "execute_result"
    }
   ],
   "source": [
    "if TRAIN:\n",
    "    if \"qwen\" not in MODEL_NAME.lower():\n",
    "        class_weights = compute_class_weight(\n",
    "            class_weight='balanced',\n",
    "            classes=np.unique(train_data[\"similarity\"]),\n",
    "            y=train_data[\"similarity\"]\n",
    "        )\n",
    "        class_weights = torch.tensor(class_weights, dtype=torch.float).to(model.device)\n",
    "        # Define a custom loss function\n",
    "        def compute_loss_func(output, labels, return_outputs=False, **kwargs):\n",
    "            \"\"\"\n",
    "            Custom loss function with class weights.\n",
    "            Handles additional arguments passed by the Trainer.\n",
    "            \"\"\"\n",
    "            # Define the loss function with class weights\n",
    "            logits = output.logits.to(device)\n",
    "            labels = labels.to(device)\n",
    "            loss_fn = CrossEntropyLoss(weight=class_weights)\n",
    "            loss = loss_fn(logits, labels)\n",
    "            # Return loss and optionally model outputs\n",
    "            return (loss, output) if return_outputs else loss\n",
    "    else:\n",
    "        compute_loss_func = None\n",
    "    # 6. Train the model\n",
    "    trainer = Trainer(\n",
    "        model=model,\n",
    "        args=training_args,\n",
    "        train_dataset=train_dataset,\n",
    "        eval_dataset=val_dataset,\n",
    "        tokenizer=tokenizer,\n",
    "        compute_loss_func=compute_loss_func  # Custom loss function with class weights\n",
    "    )\n",
    "    trainer.train()\n",
    "model.eval()"
   ]
  },
  {
   "cell_type": "markdown",
   "id": "e035a673",
   "metadata": {},
   "source": [
    "### Manual Saving of the Score Layer\n",
    "\n",
    "Since the `score` layer is not saved automatically due to an issue with Hugging Face, it is manually saved when training:\n",
    "- For some models, the `score` layer is serialized and saved to a file."
   ]
  },
  {
   "cell_type": "code",
   "execution_count": 18,
   "id": "9fa5b053",
   "metadata": {},
   "outputs": [],
   "source": [
    "if TRAIN:\n",
    "    if \"qwen\" in MODEL_NAME.lower():\n",
    "        with open(score_file_path, \"wb\") as f:\n",
    "            pkl.dump(model.score, f)\n",
    "        print(f\"Score guardado en: {score_file_path}\")"
   ]
  },
  {
   "cell_type": "code",
   "execution_count": 19,
   "id": "9469f5cd",
   "metadata": {},
   "outputs": [],
   "source": [
    "if TRAIN:\n",
    "    os.makedirs(output_dir, exist_ok=True)\n",
    "    tokenizer.save_pretrained(output_dir)\n",
    "    model.save_pretrained(output_dir)\n"
   ]
  },
  {
   "cell_type": "markdown",
   "id": "7475c9de",
   "metadata": {},
   "source": [
    "# Define the metrics\n",
    "\n",
    "\n",
    "Implements functions to evaluate the model's performance:\n",
    "\n",
    "- **`evaluate_classifier`**: Evaluates the Hugging Face model on a dataset and prints a classification report.\n",
    "- **`map_at_k`**: Calculates mean average precision at various cutoff values (`k`) for ranking evaluation.\n",
    "- **`recall_at_k`**: Computes recall at different `k` values, measuring the proportion of relevant items retrieved.\n",
    "- **`mean_reciprocal_rank`**: Computes the mean reciprocal rank, reflecting how quickly relevant results appear in the predicted ranking.\n",
    "\n",
    "These metrics provide a comprehensive evaluation of classification and ranking performance."
   ]
  },
  {
   "cell_type": "code",
   "execution_count": null,
   "id": "d89e14b0",
   "metadata": {},
   "outputs": [],
   "source": [
    "# Define a function to evaluate the Hugging Face classifier\n",
    "def evaluate_classifier(model, dataset, batch_size=BATCH_SIZE):\n",
    "    \"\"\"\n",
    "    Evaluates the Hugging Face model on a given dataset.\n",
    "\n",
    "    Args:\n",
    "        model: The Hugging Face model to evaluate.\n",
    "        dataset: The dataset for evaluation (custom PyTorch Dataset).\n",
    "        tokenizer: The tokenizer corresponding to the model.\n",
    "        batch_size: Batch size for evaluation.\n",
    "\n",
    "    Returns:\n",
    "        None (Prints the classification report).\n",
    "    \"\"\"\n",
    "    # Create a DataLoader to process the dataset in batches\n",
    "    dataloader = DataLoader(dataset, batch_size=batch_size)\n",
    "\n",
    "    # Variables to store true labels and predicted labels\n",
    "    all_labels = []\n",
    "    all_preds = []\n",
    "\n",
    "    # Set the model to evaluation mode\n",
    "    model.eval()\n",
    "    with torch.no_grad():  # Disable gradient calculations for evaluation\n",
    "        for batch in tqdm.tqdm(dataloader):\n",
    "            # Move input tensors to the same device as the model\n",
    "            input_ids = batch[\"input_ids\"].to(model.device)\n",
    "            attention_mask = batch[\"attention_mask\"].to(model.device)\n",
    "            labels = batch[\"label\"].cpu().numpy()  # Extract true labels\n",
    "\n",
    "            # Perform predictions using the model\n",
    "            outputs = model(input_ids=input_ids, attention_mask=attention_mask)\n",
    "            logits = outputs.logits\n",
    "            predictions = torch.argmax(logits, dim=-1).cpu().numpy()  # Get predicted classes\n",
    "\n",
    "            # Store true labels and predictions for evaluation\n",
    "            all_labels.extend(labels)\n",
    "            all_preds.extend(predictions)\n",
    "\n",
    "    # Generate and print the classification report\n",
    "    print(classification_report(all_labels, all_preds, target_names=[\"No Similar\", \"Similar\"]))\n",
    "\n",
    "def calculate_accuracy_pipeline(gt_dict, results_dict):\n",
    "    \"\"\"\n",
    "    Calculates the accuracy of predictions compared to ground truth, considering both correct and incorrect values.\n",
    "    \n",
    "    Args:\n",
    "        gt_dict (dict): Ground truth dictionary where keys are queries and values are sets of correct answers.\n",
    "        results_dict (dict): Predicted results dictionary where keys are queries and values are lists of predicted answers.\n",
    "        \n",
    "    Returns:\n",
    "        float: Accuracy of the predictions as the average proportion of correct answers per query.\n",
    "    \"\"\"\n",
    "    total_queries = len(gt_dict)\n",
    "    total_accuracy = 0\n",
    "\n",
    "    for query, gt_values in gt_dict.items():\n",
    "        # Get the predicted values for the query\n",
    "        predicted_values = results_dict.get(query, [])\n",
    "        \n",
    "        # Calculate the intersection of correct predictions\n",
    "        correct_predictions = len(set(predicted_values) & gt_values)\n",
    "        \n",
    "        denominator = len(gt_values | set(predicted_values))  # Union of GT and predictions\n",
    "        # denominator = len(gt_values)\n",
    "        \n",
    "        # Calculate the accuracy for this query\n",
    "        query_accuracy = correct_predictions / denominator if denominator > 0 else 0\n",
    "        total_accuracy += query_accuracy\n",
    "\n",
    "    # Calculate overall accuracy as the average accuracy across all queries\n",
    "    overall_accuracy = total_accuracy / total_queries if total_queries > 0 else 0\n",
    "    return overall_accuracy\n",
    "\n",
    "def map_at_k(gt_dict, hyp_dict, k_values):\n",
    "    \"\"\"\n",
    "    Computes mean average precision at k (mAP@k) for ground truth and hypothesis dictionaries.\n",
    "\n",
    "    Args:\n",
    "        gt_dict (dict): Ground truth dictionary with query as key and a set of correct results as value.\n",
    "        hyp_dict (dict): Hypothesis dictionary with query as key and a list of predicted results as value.\n",
    "        k_values (list): List of k values for which mAP@k should be calculated.\n",
    "\n",
    "    Returns:\n",
    "        list: Mean Average Precision at each k in k_values.\n",
    "    \"\"\"\n",
    "    map_scores = []\n",
    "\n",
    "    for k in k_values:\n",
    "        average_precisions = []\n",
    "        \n",
    "        for query, gt_values in gt_dict.items():\n",
    "            if query in hyp_dict:\n",
    "                top_k_predictions = hyp_dict[query][:k]\n",
    "                num_relevant = 0\n",
    "                precision_at_i_sum = 0\n",
    "                \n",
    "                for i, pred in enumerate(top_k_predictions, start=1):\n",
    "                    if pred in gt_values:\n",
    "                        num_relevant += 1\n",
    "                        precision_at_i_sum += num_relevant / i  # Precision at rank i\n",
    "                \n",
    "                # Calculate Average Precision (AP) for this query\n",
    "                if num_relevant > 0:\n",
    "                    average_precisions.append(precision_at_i_sum / min(len(gt_values), k))\n",
    "                elif num_relevant == 0 and len(gt_values) == 0:\n",
    "                    average_precisions.append(1)\n",
    "                else:\n",
    "                    average_precisions.append(0)\n",
    "        \n",
    "        # Calculate mAP@k\n",
    "        map_scores.append(np.mean(average_precisions))\n",
    "    \n",
    "    return map_scores\n",
    "\n",
    "\n",
    "def recall_at_k(gt_dict, hyp_dict, k_values):\n",
    "    \"\"\"\n",
    "    Computes recall at k for ground truth and hypothesis dictionaries.\n",
    "\n",
    "    Args:\n",
    "        gt_dict (dict): Ground truth dictionary with query as key and a set of correct results as value.\n",
    "        hyp_dict (dict): Hypothesis dictionary with query as key and a list of predicted results as value.\n",
    "        k_values (list): List of k values for which recall@k should be calculated.\n",
    "\n",
    "    Returns:\n",
    "        list: Recall at each k in k_values.\n",
    "    \"\"\"\n",
    "    recalls = []\n",
    "\n",
    "    for k in k_values:\n",
    "        recall_scores = []\n",
    "        \n",
    "        for query, gt_values in gt_dict.items():\n",
    "            if query in hyp_dict:\n",
    "                top_k_predictions = hyp_dict[query][:k]\n",
    "                if not isinstance(gt_values, set):\n",
    "                    gt_values = set(gt_values)  # Ensure ground truth values are a set\n",
    "                retrieved_relevant = len(set(top_k_predictions) & gt_values)  # Intersection of predictions and relevant items\n",
    "                if len(gt_values) > 0:\n",
    "                    recall = retrieved_relevant / min(len(top_k_predictions), k)\n",
    "                else:\n",
    "                    if len(gt_values) == 0 and retrieved_relevant == 0:\n",
    "                        recall = 1\n",
    "                    else:\n",
    "                        recall = 0\n",
    "                recall_scores.append(recall)\n",
    "        \n",
    "        # Average recall for this k\n",
    "        recalls.append(np.mean(recall_scores))\n",
    "    \n",
    "    return recalls\n",
    "\n",
    "\n",
    "def mean_reciprocal_rank(gt_dict, hyp_dict):\n",
    "    \"\"\"\n",
    "    Computes mean reciprocal rank for ground truth and hypothesis dictionaries.\n",
    "    \"\"\"\n",
    "    reciprocal_ranks = []\n",
    "    for query, gt_values in gt_dict.items():\n",
    "        if query in hyp_dict:\n",
    "            for rank, pred in enumerate(hyp_dict[query], 1):\n",
    "                if pred in gt_values:\n",
    "                    reciprocal_ranks.append(1 / rank)\n",
    "                    break\n",
    "                elif len(pred) == 0 and len(gt_values) == 0:\n",
    "                    reciprocal_ranks.append(1)\n",
    "            else:\n",
    "                if len(gt_values) == 0:\n",
    "                    reciprocal_ranks.append(1)\n",
    "                else:\n",
    "                    reciprocal_ranks.append(0)\n",
    "    return np.mean(reciprocal_ranks)"
   ]
  },
  {
   "cell_type": "markdown",
   "id": "530c4740",
   "metadata": {},
   "source": [
    "# Evaluation"
   ]
  },
  {
   "cell_type": "markdown",
   "id": "a7bf5cc9",
   "metadata": {},
   "source": [
    "## Evaluate the Classifier on the Val Set\n",
    "\n",
    "Evaluates the classifier's performance on the validation set using the `evaluate_classifier` function. This evaluation focuses purely on the classification task, without considering the ranking system.\n"
   ]
  },
  {
   "cell_type": "code",
   "execution_count": 21,
   "id": "758f9af1",
   "metadata": {},
   "outputs": [
    {
     "name": "stdout",
     "output_type": "stream",
     "text": [
      "Evaluando clasificador en validación...\n"
     ]
    },
    {
     "name": "stderr",
     "output_type": "stream",
     "text": [
      "100%|██████████| 155/155 [03:33<00:00,  1.38s/it]"
     ]
    },
    {
     "name": "stdout",
     "output_type": "stream",
     "text": [
      "              precision    recall  f1-score   support\n",
      "\n",
      "  No Similar       0.95      0.98      0.97       243\n",
      "     Similar       0.92      0.82      0.87        67\n",
      "\n",
      "    accuracy                           0.95       310\n",
      "   macro avg       0.93      0.90      0.92       310\n",
      "weighted avg       0.94      0.95      0.94       310\n",
      "\n"
     ]
    },
    {
     "name": "stderr",
     "output_type": "stream",
     "text": [
      "\n"
     ]
    }
   ],
   "source": [
    "print(\"Evaluando clasificador en validación...\")\n",
    "evaluate_classifier(model, val_dataset)"
   ]
  },
  {
   "cell_type": "markdown",
   "id": "086f82dc",
   "metadata": {},
   "source": [
    "## Evaluate the Classifier on the Training Set\n",
    "\n",
    "Evaluates the classifier's performance on the training set using the `evaluate_classifier` function. This evaluation focuses purely on the classification task, without considering the ranking system.\n"
   ]
  },
  {
   "cell_type": "code",
   "execution_count": 22,
   "id": "20dc7711",
   "metadata": {},
   "outputs": [
    {
     "name": "stdout",
     "output_type": "stream",
     "text": [
      "Evaluating the classifier on the training set...\n"
     ]
    },
    {
     "name": "stderr",
     "output_type": "stream",
     "text": [
      "  0%|          | 0/1395 [00:00<?, ?it/s]"
     ]
    },
    {
     "name": "stderr",
     "output_type": "stream",
     "text": [
      "100%|██████████| 1395/1395 [32:18<00:00,  1.39s/it]"
     ]
    },
    {
     "name": "stdout",
     "output_type": "stream",
     "text": [
      "              precision    recall  f1-score   support\n",
      "\n",
      "  No Similar       0.98      1.00      0.99      2122\n",
      "     Similar       0.99      0.95      0.97       668\n",
      "\n",
      "    accuracy                           0.99      2790\n",
      "   macro avg       0.99      0.97      0.98      2790\n",
      "weighted avg       0.99      0.99      0.99      2790\n",
      "\n"
     ]
    },
    {
     "name": "stderr",
     "output_type": "stream",
     "text": [
      "\n"
     ]
    }
   ],
   "source": [
    "print(\"Evaluating the classifier on the training set...\")\n",
    "evaluate_classifier(model, train_dataset)"
   ]
  },
  {
   "cell_type": "markdown",
   "id": "d9d30b7b",
   "metadata": {},
   "source": [
    "## Evaluate the Classifier on the Test Set\n",
    "\n",
    "Evaluates the classifier's performance on the test set using the `evaluate_classifier` function. This evaluation focuses purely on the classification task, without considering the ranking system."
   ]
  },
  {
   "cell_type": "code",
   "execution_count": 23,
   "id": "evaluate-classifier",
   "metadata": {},
   "outputs": [
    {
     "name": "stdout",
     "output_type": "stream",
     "text": [
      "Evaluando clasificador en test...\n"
     ]
    },
    {
     "name": "stderr",
     "output_type": "stream",
     "text": [
      "  0%|          | 0/384 [00:00<?, ?it/s]"
     ]
    },
    {
     "name": "stderr",
     "output_type": "stream",
     "text": [
      "100%|██████████| 384/384 [08:51<00:00,  1.38s/it]"
     ]
    },
    {
     "name": "stdout",
     "output_type": "stream",
     "text": [
      "              precision    recall  f1-score   support\n",
      "\n",
      "  No Similar       0.94      0.96      0.95       617\n",
      "     Similar       0.81      0.74      0.77       151\n",
      "\n",
      "    accuracy                           0.91       768\n",
      "   macro avg       0.87      0.85      0.86       768\n",
      "weighted avg       0.91      0.91      0.91       768\n",
      "\n"
     ]
    },
    {
     "name": "stderr",
     "output_type": "stream",
     "text": [
      "\n"
     ]
    }
   ],
   "source": [
    "print(\"Evaluando clasificador en test...\")\n",
    "test_dataset = TextPairDataset(filtered_test, tokenizer)\n",
    "evaluate_classifier(model, test_dataset)"
   ]
  },
  {
   "cell_type": "markdown",
   "id": "2216ceb4",
   "metadata": {},
   "source": [
    "## Calculate the Similarity Between All Possible Combinations\n",
    "\n",
    "Computes the cosine similarity between all possible combinations of query and archive embeddings in the test set. The goal is to generate similarity scores for later use in ranking and retrieving the top-K most relevant results. Only non-identical pairs are considered during the computation.\n"
   ]
  },
  {
   "cell_type": "code",
   "execution_count": 24,
   "id": "compute-evaluation-metrics",
   "metadata": {},
   "outputs": [
    {
     "name": "stdout",
     "output_type": "stream",
     "text": [
      "Calculando similitudes...\n"
     ]
    }
   ],
   "source": [
    "similarities = []\n",
    "print(\"Calculando similitudes...\")\n",
    "for i, query_embedding in enumerate(filtered_test['query_embedding']):\n",
    "    candidate_similarities = [\n",
    "        (j, util.cos_sim(query_embedding, archive_embedding).item())\n",
    "        for j, archive_embedding in enumerate(filtered_test['archive_embedding']) if i != j\n",
    "    ]\n",
    "    similarities.append(candidate_similarities)"
   ]
  },
  {
   "cell_type": "markdown",
   "id": "3ad52de4",
   "metadata": {},
   "source": [
    "## Generate and Classify Top-K Results\n",
    "\n",
    "For each query in the test set, this block retrieves and classifies the top-K most similar claims:\n",
    "\n",
    "- **Parameters**:\n",
    "  - `k`: Number of top candidates to retrieve based on similarity.\n",
    "  - `th`: Probability threshold to classify a claim as similar.\n",
    "  - `USE_GT`: If enabled, uses ground truth similarity instead of classification.\n",
    "\n",
    "- **Process**:\n",
    "  - For each query:\n",
    "    - If `USE_GT` is enabled, selects claims directly based on ground truth similarity.\n",
    "    - Otherwise:\n",
    "      - Retrieves the top-K claims with the highest cosine similarity scores.\n",
    "      - Classifies the top-K claims using the binary model and calculates probabilities.\n",
    "      - Selects claims with probabilities above the threshold and sorts them by confidence.\n",
    "    - Updates the `results` dictionary with the unique selected claims for each query.\n"
   ]
  },
  {
   "cell_type": "markdown",
   "id": "acf1220f",
   "metadata": {},
   "source": [
    "### Helper Function to Get Classification Probabilities\n",
    "\n",
    "Defines a helper function `get_prob` to compute the probabilities of similarity (class 1) for a query and its top-K candidate claims.\n"
   ]
  },
  {
   "cell_type": "code",
   "execution_count": null,
   "id": "69348830",
   "metadata": {},
   "outputs": [],
   "source": [
    "def get_prob(row, k_rev_claims):\n",
    "    row_to_use = archive\n",
    "    inputs = tokenizer(\n",
    "        [row[query_col]] * len(k_rev_claims),  # Duplicate query for all top-k claims\n",
    "        k_rev_claims[row_to_use].tolist(),   # Corresponding archives\n",
    "        max_length=MAX_TOKENS,\n",
    "        padding=True,\n",
    "        truncation=True,\n",
    "        return_tensors=\"pt\"\n",
    "    )\n",
    "    \n",
    "    # Move inputs to the device of the model (e.g., GPU)\n",
    "    inputs = {key: val.to(model.device) for key, val in inputs.items()}\n",
    "    \n",
    "    # Predict probabilities using Hugging Face model\n",
    "    with torch.no_grad():\n",
    "        outputs = model(**inputs)\n",
    "        is_similar_proba = torch.softmax(outputs.logits, dim=-1)[:, 1].cpu().numpy()  # Probability of class 1\n",
    "        return is_similar_proba"
   ]
  },
  {
   "cell_type": "code",
   "execution_count": null,
   "id": "046f6fbe",
   "metadata": {},
   "outputs": [
    {
     "name": "stderr",
     "output_type": "stream",
     "text": [
      "100%|██████████| 768/768 [03:38<00:00,  3.51it/s]\n"
     ]
    }
   ],
   "source": [
    "results = {}\n",
    "USE_GT = False #for debug purposes\n",
    "\n",
    "for i in tqdm.tqdm(range(len(filtered_test))):\n",
    "    row = filtered_test.iloc[i]\n",
    "    \n",
    "    unreviewed_claim = row[query_col]\n",
    "    if USE_GT:\n",
    "        is_gt = row[\"similarity\"]\n",
    "        if is_gt:\n",
    "            selected_rev_claims = [row[archive]]\n",
    "        else:\n",
    "            selected_rev_claims = []\n",
    "    else:\n",
    "    \n",
    "        top_k = [x[0] for x in heapq.nlargest(topK, similarities[i], key=lambda x: x[1])]\n",
    "        k_rev_claims = filtered_test.iloc[top_k]#[archive]\n",
    "        \n",
    "        # Now we have the topK rev claim by similarity. We can classify them now\n",
    "        is_similar_proba = get_prob(row, k_rev_claims)\n",
    "        indices = np.where(np.array(is_similar_proba) >= TH)[0]\n",
    "        \n",
    "        sorted_indices = sorted(indices, key=lambda x: is_similar_proba[x], reverse=True)\n",
    "        selected_rev_claims = k_rev_claims.iloc[sorted_indices][archive].tolist()\n",
    "\n",
    "        \n",
    "    set_results = results.get(unreviewed_claim, [])\n",
    "    for selected in selected_rev_claims:\n",
    "        if selected not in set_results:\n",
    "            set_results.append(selected)\n",
    "    results[unreviewed_claim] = set_results"
   ]
  },
  {
   "cell_type": "markdown",
   "id": "d7c199dc",
   "metadata": {},
   "source": [
    "### Statistics"
   ]
  },
  {
   "cell_type": "code",
   "execution_count": 41,
   "id": "eb4d2ee9",
   "metadata": {},
   "outputs": [],
   "source": [
    "items_count = {}\n",
    "for k,v in query_answer_dict.items():\n",
    "    items_count[len(v)] = items_count.get(len(v), 0) + 1\n",
    "items_count_results = {}\n",
    "for k,v in results.items():\n",
    "    items_count_results[len(v)] = items_count_results.get(len(v), 0) + 1"
   ]
  },
  {
   "cell_type": "code",
   "execution_count": null,
   "id": "12d1f4de",
   "metadata": {},
   "outputs": [
    {
     "name": "stdout",
     "output_type": "stream",
     "text": [
      "[3, 16, 7, 5, 4, 4, 3, 2, 1, 0, 0, 2, 0, 0, 0]\n"
     ]
    },
    {
     "data": {
      "image/png": "[encoded data removed]",
      "text/plain": [
       "<Figure size 1200x600 with 1 Axes>"
      ]
     },
     "metadata": {},
     "output_type": "display_data"
    }
   ],
   "source": [
    "\n",
    "\n",
    "x = [x for x in range(15)]  # Longitud de respuestas\n",
    "y_gt = [items_count.get(key, 0) for key in x]  # Número de claims (GT)\n",
    "y_hyp = [items_count_results.get(key, 0) for key in x]  # Número de claims (Hyp)\n",
    "print(y_hyp)\n",
    "\n",
    "# Configuración de posición de las barras\n",
    "x_pos = range(len(x))\n",
    "width = 0.4  # Ancho de las barras\n",
    "\n",
    "plt.figure(figsize=(12, 6))\n",
    "plt.bar([pos - width / 2 for pos in x_pos], y_gt, width, color='skyblue', label='GT (Ground Truth)')\n",
    "plt.bar([pos + width / 2 for pos in x_pos], y_hyp, width, color='red', label='Hyp (Hypothesis)')\n",
    "\n",
    "plt.xlabel(\"Número de claims similares - Distribución\", fontsize=12)\n",
    "plt.ylabel(\"Número de claims no revisadas\", fontsize=12)\n",
    "plt.title(\"Distribución de Claims por número de Respuestas\", fontsize=14)\n",
    "plt.xticks(x_pos, x)  # Etiquetas del eje x\n",
    "plt.grid(axis='y', linestyle='--', alpha=0.7)\n",
    "\n",
    "# Añadir números encima de las barras (GT)\n",
    "for i, value in enumerate(y_gt):\n",
    "    plt.text(i - width / 2, value + 0.5, str(value), ha='center', fontsize=10, color='blue')\n",
    "\n",
    "# Añadir números encima de las barras (Hyp)\n",
    "for i, value in enumerate(y_hyp):\n",
    "    plt.text(i + width / 2, value + 0.5, str(value), ha='center', fontsize=10, color='red')\n",
    "\n",
    "plt.legend(fontsize=12)\n",
    "plt.show()\n"
   ]
  },
  {
   "cell_type": "markdown",
   "id": "d0ec66f2",
   "metadata": {},
   "source": [
    "## Compute Metrics and Accuracy\n",
    "\n",
    "Evaluates the pipeline's performance using multiple metrics:\n",
    "- **MAP@k**: Measures the precision of the top-K predictions at cutoff values (`k_values`).\n",
    "- **Recall@k**: Evaluates the recall of the top-K predictions, indicating the proportion of relevant items retrieved.\n",
    "- **MRR**: Calculates the Mean Reciprocal Rank, reflecting how quickly the correct items appear in the ranked list.\n",
    "- **Accuracy**: Computes the overall accuracy of the predictions compared to the ground truth.\n",
    "\n",
    "The computed metrics and accuracy are printed to summarize the model's performance.\n"
   ]
  },
  {
   "cell_type": "code",
   "execution_count": 43,
   "id": "780e55ac",
   "metadata": {},
   "outputs": [
    {
     "name": "stdout",
     "output_type": "stream",
     "text": [
      "Metrics Report:\n",
      "------------------------------\n",
      "Mean Average Precision (MAP@k):\n",
      "  MAP@1: 0.8936\n",
      "  MAP@3: 0.8044\n",
      "  MAP@5: 0.7837\n",
      "  MAP@10: 0.7653\n",
      "\n",
      "Recall@k:\n",
      "  Recall@1: 0.8936\n",
      "  Recall@3: 0.8262\n",
      "  Recall@5: 0.8319\n",
      "  Recall@10: 0.8155\n",
      "\n",
      "Mean Reciprocal Rank (MRR):\n",
      "  MRR: 0.9191\n",
      "\n",
      "Overall Accuracy:\n",
      "  Accuracy: 0.64\n"
     ]
    }
   ],
   "source": [
    "k_values = [1, 3, 5, 10]\n",
    "map_scores = map_at_k(query_answer_dict, results, k_values)\n",
    "recall_scores = recall_at_k(query_answer_dict, results, k_values)\n",
    "mrr_score = mean_reciprocal_rank(query_answer_dict, results)\n",
    "accuracy = calculate_accuracy_pipeline(query_answer_dict, results)\n",
    "\n",
    "# Pretty print the results\n",
    "print(\"Metrics Report:\")\n",
    "print(\"-\" * 30)\n",
    "print(\"Mean Average Precision (MAP@k):\")\n",
    "for k, score in zip(k_values, map_scores):\n",
    "    print(f\"  MAP@{k}: {score:.4f}\")\n",
    "print(\"\\nRecall@k:\")\n",
    "for k, score in zip(k_values, recall_scores):\n",
    "    print(f\"  Recall@{k}: {score:.4f}\")\n",
    "print(\"\\nMean Reciprocal Rank (MRR):\")\n",
    "print(f\"  MRR: {mrr_score:.4f}\")\n",
    "print(\"\\nOverall Accuracy:\")\n",
    "print(f\"  Accuracy: {accuracy:.2f}\")\n",
    "\n"
   ]
  },
  {
   "cell_type": "markdown",
   "id": "ced8a4df",
   "metadata": {},
   "source": [
    "# Inference"
   ]
  },
  {
   "cell_type": "code",
   "execution_count": 31,
   "id": "5d08c5c7",
   "metadata": {},
   "outputs": [],
   "source": [
    "def get_prob_from_str(user_input, k_rev_claims):\n",
    "     # Prepare input for Hugging Face model\n",
    "    inputs = tokenizer(\n",
    "        [user_input] * len(k_rev_claims),  # Duplicate query for all top-k claims\n",
    "        k_rev_claims[archive].tolist(),   # Corresponding archives\n",
    "        max_length=MAX_TOKENS,\n",
    "        padding=True,\n",
    "        truncation=True,\n",
    "        return_tensors=\"pt\"\n",
    "    )\n",
    "    \n",
    "    # Move inputs to the device of the model (e.g., GPU)\n",
    "    inputs = {key: val.to(model.device) for key, val in inputs.items()}\n",
    "    \n",
    "    # Predict probabilities using Hugging Face model\n",
    "    with torch.no_grad():\n",
    "        outputs = model(**inputs)\n",
    "        is_similar_proba = torch.softmax(outputs.logits, dim=-1)[:, 1].cpu().numpy()  # Probability of class 1\n",
    "        return is_similar_proba"
   ]
  },
  {
   "cell_type": "code",
   "execution_count": 32,
   "id": "4ee6b9c7",
   "metadata": {},
   "outputs": [
    {
     "name": "stdout",
     "output_type": "stream",
     "text": [
      "Reino Unido deja de recomendar la vacunación anticovid en embarazadas\n"
     ]
    }
   ],
   "source": [
    "df = filtered_test\n",
    "query_user =  df[df[\"similarity\"] == 1][query_col].sample(n=1).iloc[0]\n",
    "print(query_user)"
   ]
  },
  {
   "cell_type": "code",
   "execution_count": 33,
   "id": "d3ace7c4",
   "metadata": {},
   "outputs": [],
   "source": [
    "def get_query(query_user):\n",
    "    print(\"Calculando similitudes...\")\n",
    "    query_embedding = embedding_model.encode(query_user, convert_to_tensor=True)\n",
    "    candidate_similarities = [\n",
    "        (j, util.cos_sim(query_embedding, archive_embedding).item())\n",
    "        for j, archive_embedding in enumerate(df['archive_embedding'])\n",
    "    ]\n",
    "    unreviewed_claim = query_user\n",
    "\n",
    "    top_k = [x[0] for x in heapq.nlargest(topK, candidate_similarities, key=lambda x: x[1])]\n",
    "    k_rev_claims = filtered_test.iloc[top_k]#[archive]\n",
    "    # Now we have the topK rev claim by similarity. We can classify them now\n",
    "    is_similar_proba = get_prob_from_str(unreviewed_claim, k_rev_claims)\n",
    "    indices = np.where(np.array(is_similar_proba) >= TH)[0]\n",
    "\n",
    "    sorted_indices = sorted(indices, key=lambda x: is_similar_proba[x], reverse=True)\n",
    "    selected_rev_claims = k_rev_claims.iloc[sorted_indices][archive].tolist()\n",
    "    results = []\n",
    "    set_claims = set()\n",
    "    for i, rev_claim in enumerate(selected_rev_claims):\n",
    "        if rev_claim not in set_claims:\n",
    "            results.append((rev_claim, is_similar_proba[sorted_indices[i]]))\n",
    "            print(rev_claim, f\"  [{is_similar_proba[sorted_indices[i]]*100.0:.2f} confidence]\")\n",
    "            set_claims.add(rev_claim)\n",
    "    return results\n"
   ]
  },
  {
   "cell_type": "code",
   "execution_count": null,
   "id": "6f3ceffd",
   "metadata": {},
   "outputs": [
    {
     "data": {
      "text/html": [
       "\n",
       "    <style>\n",
       "        .result-box {\n",
       "            font-family: Arial, sans-serif;\n",
       "            background-color: #f9f9f9;\n",
       "            border: 1px solid #ddd;\n",
       "            border-radius: 5px;\n",
       "            padding: 15px;\n",
       "            margin-top: 10px;\n",
       "            width: 100%;\n",
       "        }\n",
       "        .result-title {\n",
       "            font-size: 18px;\n",
       "            font-weight: bold;\n",
       "            color: #333;\n",
       "            margin-bottom: 10px;\n",
       "        }\n",
       "        .result-item {\n",
       "            font-size: 16px;\n",
       "            margin-bottom: 5px;\n",
       "        }\n",
       "        .result-item span {\n",
       "            font-weight: bold;\n",
       "        }\n",
       "    </style>\n"
      ],
      "text/plain": [
       "<IPython.core.display.HTML object>"
      ]
     },
     "metadata": {},
     "output_type": "display_data"
    },
    {
     "data": {
      "application/vnd.jupyter.widget-view+json": {
       "model_id": "8bcfd95a54c14015957536bf8171128a",
       "version_major": 2,
       "version_minor": 0
      },
      "text/plain": [
       "Text(value='', description='Claim:', layout=Layout(width='100%'), placeholder='Enter your claim here...', styl…"
      ]
     },
     "metadata": {},
     "output_type": "display_data"
    },
    {
     "data": {
      "application/vnd.jupyter.widget-view+json": {
       "model_id": "751babfdcc484117b2123b7db9685646",
       "version_major": 2,
       "version_minor": 0
      },
      "text/plain": [
       "Button(button_style='primary', description='Submit Query', icon='search', style=ButtonStyle(), tooltip='Click …"
      ]
     },
     "metadata": {},
     "output_type": "display_data"
    },
    {
     "data": {
      "application/vnd.jupyter.widget-view+json": {
       "model_id": "12906c8aac764a5e87148cf79385377b",
       "version_major": 2,
       "version_minor": 0
      },
      "text/plain": [
       "Output()"
      ]
     },
     "metadata": {},
     "output_type": "display_data"
    }
   ],
   "source": [
    "\n",
    "\n",
    "# CSS para estilizar la salida\n",
    "style = HTML(\"\"\"\n",
    "    <style>\n",
    "        .result-box {\n",
    "            font-family: Arial, sans-serif;\n",
    "            background-color: #f9f9f9;\n",
    "            border: 1px solid #ddd;\n",
    "            border-radius: 5px;\n",
    "            padding: 15px;\n",
    "            margin-top: 10px;\n",
    "            width: 100%;\n",
    "        }\n",
    "        .result-title {\n",
    "            font-size: 18px;\n",
    "            font-weight: bold;\n",
    "            color: #333;\n",
    "            margin-bottom: 10px;\n",
    "        }\n",
    "        .result-item {\n",
    "            font-size: 16px;\n",
    "            margin-bottom: 5px;\n",
    "        }\n",
    "        .result-item span {\n",
    "            font-weight: bold;\n",
    "        }\n",
    "    </style>\n",
    "\"\"\")\n",
    "\n",
    "input_box = widgets.Text(\n",
    "    value='',\n",
    "    placeholder='Enter your claim here...',\n",
    "    description='Claim:',\n",
    "    layout=widgets.Layout(width='100%'),\n",
    "    style={'description_width': 'initial'}\n",
    ")\n",
    "\n",
    "submit_button = widgets.Button(\n",
    "    description=\"Submit Query\",\n",
    "    button_style=\"primary\",  # 'success', 'info', 'warning', 'danger' or '' for default\n",
    "    tooltip=\"Click to submit your claim\",\n",
    "    icon=\"search\"\n",
    ")\n",
    "\n",
    "output = widgets.Output()\n",
    "\n",
    "def on_submit_button_click(b):\n",
    "    query_user = input_box.value  \n",
    "    if not query_user.strip():\n",
    "        with output:\n",
    "            clear_output()\n",
    "            print(\"Please enter a valid claim.\")\n",
    "        return\n",
    "    \n",
    "    results = get_query(query_user)\n",
    "    \n",
    "    with output:\n",
    "        clear_output()\n",
    "        display(HTML(\"<div class='result-box'>\"\n",
    "                     f\"<div class='result-title'>Results for: \\\"{query_user}\\\"</div>\"\n",
    "                     + \"\".join([f\"<div class='result-item'>Claim: <span>{claim}</span> | Probability: <span>{prob:.2f}</span></div>\"\n",
    "                                for claim, prob in results])\n",
    "                     + \"</div>\"))\n",
    "\n",
    "submit_button.on_click(on_submit_button_click)\n",
    "\n",
    "display(style, input_box, submit_button, output)\n"
   ]
  },
  {
   "cell_type": "markdown",
   "id": "73a1a212",
   "metadata": {},
   "source": [
    "## 💡 Discussion\n",
    "\n",
    "- **Experimenting with Other Models:** While `Qwen2.5` performed well, experimenting with larger Qwen models or recently released models like `LLama 3.3` or `phi4` could yield better results.\n",
    "- **Using More Data:** Attempts were made to include additional metadata and reviewed claim details as input to `Qwen2.5`. However, this significantly increased computation time (as the experiments were run on a laptop) and did not improve results. There is potential for further exploration in this area.\n",
    "- **Vector Databases:** Tools like LangChain and vector databases such as LanceDB or FAISS could be integrated to create a robust vector-based retrieval system for finding similar documents efficiently."
   ]
  }
 ],
 "metadata": {
  "kernelspec": {
   "display_name": "factcheck",
   "language": "python",
   "name": "python3"
  },
  "language_info": {
   "codemirror_mode": {
    "name": "ipython",
    "version": 3
   },
   "file_extension": ".py",
   "mimetype": "text/x-python",
   "name": "python",
   "nbconvert_exporter": "python",
   "pygments_lexer": "ipython3",
   "version": "3.11.11"
  }
 },
 "nbformat": 4,
 "nbformat_minor": 5
}
